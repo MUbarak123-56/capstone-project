{
 "cells": [
  {
   "cell_type": "markdown",
   "metadata": {},
   "source": [
    "### United States of America is one of the most diverse countries in the world and a developed nation. Thus, a French artist thought it would be a good idea to launch his museum in the U.S.A. He intends to move to a lively part of the country with low crime rates and a high population in order to prevent his art works from getting stolen while still having access to a large audience. The objective of the project is use a foursquare credentials to build a map while using other databases to carry out a research that will provide the the French artist with the safest lively location in the United States to showcase his art works. This project will utiize data science methodology in approaching the business problem at hand."
   ]
  },
  {
   "cell_type": "code",
   "execution_count": null,
   "metadata": {
    "collapsed": true
   },
   "outputs": [],
   "source": []
  }
 ],
 "metadata": {
  "kernelspec": {
   "display_name": "Python 3",
   "language": "python",
   "name": "python3"
  },
  "language_info": {
   "codemirror_mode": {
    "name": "ipython",
    "version": 3
   },
   "file_extension": ".py",
   "mimetype": "text/x-python",
   "name": "python",
   "nbconvert_exporter": "python",
   "pygments_lexer": "ipython3",
   "version": "3.5.2"
  },
  "widgets": {
   "state": {},
   "version": "1.1.2"
  }
 },
 "nbformat": 4,
 "nbformat_minor": 2
}
