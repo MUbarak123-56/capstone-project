{
 "cells": [
  {
   "cell_type": "markdown",
   "metadata": {},
   "source": [
    "## The dataset to be used for the project is the top 100 most populous cities in U.S.A with their respective crime rates. With the use of data analysis technique via python, the safest lively city will be found which is one of the top 100 most populous cities with the least crime rate. Then, foursquare will be used to analyze the city better by looking into which neighborhood will be perfect for the French artist to build his museum and store his art collection. This will be based on how lively the each location is and other factors like number of restaurants, "
   ]
  }
 ],
 "metadata": {
  "kernelspec": {
   "display_name": "Python 3",
   "language": "python",
   "name": "python3"
  },
  "language_info": {
   "codemirror_mode": {
    "name": "ipython",
    "version": 3
   },
   "file_extension": ".py",
   "mimetype": "text/x-python",
   "name": "python",
   "nbconvert_exporter": "python",
   "pygments_lexer": "ipython3",
   "version": "3.5.2"
  },
  "widgets": {
   "state": {},
   "version": "1.1.2"
  }
 },
 "nbformat": 4,
 "nbformat_minor": 2
}
